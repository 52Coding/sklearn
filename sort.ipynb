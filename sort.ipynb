{
  "nbformat": 4,
  "nbformat_minor": 0,
  "metadata": {
    "colab": {
      "name": "sort.ipynb",
      "version": "0.3.2",
      "provenance": [],
      "collapsed_sections": [],
      "include_colab_link": true
    },
    "kernelspec": {
      "name": "python3",
      "display_name": "Python 3"
    }
  },
  "cells": [
    {
      "cell_type": "markdown",
      "metadata": {
        "id": "view-in-github",
        "colab_type": "text"
      },
      "source": [
        "<a href=\"https://colab.research.google.com/github/52Coding/sklearn/blob/master/sort.ipynb\" target=\"_parent\"><img src=\"https://colab.research.google.com/assets/colab-badge.svg\" alt=\"Open In Colab\"/></a>"
      ]
    },
    {
      "metadata": {
        "id": "kfQc6fMfxxQC",
        "colab_type": "code",
        "colab": {
          "base_uri": "https://localhost:8080/",
          "height": 35
        },
        "outputId": "060a4076-8528-4e2f-d0f5-4093ae16f315"
      },
      "cell_type": "code",
      "source": [
        "# bubble\n",
        "def bubbleSort(arr):\n",
        "    for i in range(1, len(arr)):\n",
        "        for j in range(0, len(arr)-i):\n",
        "            if arr[j] > arr[j+1]:\n",
        "                arr[j], arr[j + 1] = arr[j + 1], arr[j]\n",
        "    return arr\n",
        "  \n",
        "print(bubbleSort([3,1,4,5,2,7]))\n",
        "\n"
      ],
      "execution_count": 3,
      "outputs": [
        {
          "output_type": "stream",
          "text": [
            "[1, 2, 3, 4, 5, 7]\n"
          ],
          "name": "stdout"
        }
      ]
    },
    {
      "metadata": {
        "id": "H9l3fPLKyPDq",
        "colab_type": "code",
        "colab": {
          "base_uri": "https://localhost:8080/",
          "height": 35
        },
        "outputId": "8ab76f28-a21b-4bae-c2a2-8a1a5d79fcfa"
      },
      "cell_type": "code",
      "source": [
        "# 选择\n",
        "def selectionSort(arr):\n",
        "    for i in range(len(arr) - 1):\n",
        "        # 记录最小数的索引\n",
        "        minIndex = i\n",
        "        for j in range(i + 1, len(arr)):\n",
        "            if arr[j] < arr[minIndex]:\n",
        "                minIndex = j\n",
        "        # i 不是最小数时，将 i 和最小数进行交换\n",
        "        if i != minIndex:\n",
        "            arr[i], arr[minIndex] = arr[minIndex], arr[i]\n",
        "    return arr\n",
        "\n",
        "print(selectionSort([3,1,4,5,2,7]))\n",
        "\n",
        "\n"
      ],
      "execution_count": 2,
      "outputs": [
        {
          "output_type": "stream",
          "text": [
            "[1, 2, 3, 4, 5, 7]\n"
          ],
          "name": "stdout"
        }
      ]
    },
    {
      "metadata": {
        "id": "VXlAwgXuyoXz",
        "colab_type": "code",
        "colab": {
          "base_uri": "https://localhost:8080/",
          "height": 35
        },
        "outputId": "93fe0128-03f1-48cf-895d-19f49909e80c"
      },
      "cell_type": "code",
      "source": [
        "# 插入\n",
        "def insertionSort(arr):\n",
        "    for i in range(len(arr)):\n",
        "        preIndex = i-1\n",
        "        current = arr[i]\n",
        "        while preIndex >= 0 and arr[preIndex] > current:\n",
        "            arr[preIndex+1] = arr[preIndex]\n",
        "            preIndex-=1\n",
        "        arr[preIndex+1] = current\n",
        "    return arr\n",
        "  \n",
        "print(insertionSort([3,1,4,5,2,7])) "
      ],
      "execution_count": 4,
      "outputs": [
        {
          "output_type": "stream",
          "text": [
            "[1, 2, 3, 4, 5, 7]\n"
          ],
          "name": "stdout"
        }
      ]
    },
    {
      "metadata": {
        "id": "iz6C6O4RyyaE",
        "colab_type": "code",
        "colab": {
          "base_uri": "https://localhost:8080/",
          "height": 35
        },
        "outputId": "05721e72-0eff-4fc6-de6e-b61b90b92312"
      },
      "cell_type": "code",
      "source": [
        "# 希尔\n",
        "def shellSort(arr):\n",
        "    import math\n",
        "    gap=1\n",
        "    while(gap < len(arr)/3):\n",
        "        gap = gap*3+1\n",
        "    while gap > 0:\n",
        "        for i in range(gap,len(arr)):\n",
        "            temp = arr[i]\n",
        "            j = i-gap\n",
        "            while j >=0 and arr[j] > temp:\n",
        "                arr[j+gap]=arr[j]\n",
        "                j-=gap\n",
        "            arr[j+gap] = temp\n",
        "        gap = math.floor(gap/3)\n",
        "    return arr\n",
        "\n",
        "print(shellSort([3,1,4,5,2,7]))\n"
      ],
      "execution_count": 5,
      "outputs": [
        {
          "output_type": "stream",
          "text": [
            "[1, 2, 3, 4, 5, 7]\n"
          ],
          "name": "stdout"
        }
      ]
    },
    {
      "metadata": {
        "id": "2QH17zhrzAUK",
        "colab_type": "code",
        "colab": {
          "base_uri": "https://localhost:8080/",
          "height": 35
        },
        "outputId": "a5424903-f20f-45f7-a817-bb997a57b06a"
      },
      "cell_type": "code",
      "source": [
        "# 归并 \n",
        "def mergeSort(arr):\n",
        "    import math\n",
        "    if(len(arr)<2):\n",
        "        return arr\n",
        "    middle = math.floor(len(arr)/2)\n",
        "    left, right = arr[0:middle], arr[middle:]\n",
        "    return merge(mergeSort(left), mergeSort(right))\n",
        "\n",
        "def merge(left,right):\n",
        "    result = []\n",
        "    while left and right:\n",
        "        if left[0] <= right[0]:\n",
        "            result.append(left.pop(0));\n",
        "        else:\n",
        "            result.append(right.pop(0));\n",
        "    while left:\n",
        "        result.append(left.pop(0));\n",
        "    while right:\n",
        "        result.append(right.pop(0));\n",
        "    return result\n",
        "\n",
        "print(mergeSort([3,1,4,5,2,7]))"
      ],
      "execution_count": 6,
      "outputs": [
        {
          "output_type": "stream",
          "text": [
            "[1, 2, 3, 4, 5, 7]\n"
          ],
          "name": "stdout"
        }
      ]
    },
    {
      "metadata": {
        "id": "hpiCD_E6zLZM",
        "colab_type": "code",
        "colab": {
          "base_uri": "https://localhost:8080/",
          "height": 35
        },
        "outputId": "da9729f8-25f9-449c-d58d-813e65f38daa"
      },
      "cell_type": "code",
      "source": [
        "# 快速\n",
        "def quickSort(arr, left=None, right=None):\n",
        "    left = 0 if not isinstance(left,(int, float)) else left\n",
        "    right = len(arr)-1 if not isinstance(right,(int, float)) else right\n",
        "    if left < right:\n",
        "        partitionIndex = partition(arr, left, right)\n",
        "        quickSort(arr, left, partitionIndex-1)\n",
        "        quickSort(arr, partitionIndex+1, right)\n",
        "    return arr\n",
        "\n",
        "def partition(arr, left, right):\n",
        "    pivot = left\n",
        "    index = pivot+1\n",
        "    i = index\n",
        "    while  i <= right:\n",
        "        if arr[i] < arr[pivot]:\n",
        "            swap(arr, i, index)\n",
        "            index+=1\n",
        "        i+=1\n",
        "    swap(arr,pivot,index-1)\n",
        "    return index-1\n",
        "\n",
        "def swap(arr, i, j):\n",
        "    arr[i], arr[j] = arr[j], arr[i]\n",
        "    \n",
        "print(quickSort([3,1,4,5,2,7]))"
      ],
      "execution_count": 7,
      "outputs": [
        {
          "output_type": "stream",
          "text": [
            "[1, 2, 3, 4, 5, 7]\n"
          ],
          "name": "stdout"
        }
      ]
    },
    {
      "metadata": {
        "id": "FFlkpZ58zUoy",
        "colab_type": "code",
        "colab": {
          "base_uri": "https://localhost:8080/",
          "height": 35
        },
        "outputId": "dbccc15b-cec9-4bd7-bbf3-ff29b81f4db1"
      },
      "cell_type": "code",
      "source": [
        "# 堆\n",
        "\n",
        "def buildMaxHeap(arr):\n",
        "    import math\n",
        "    for i in range(math.floor(len(arr)/2),-1,-1):\n",
        "        heapify(arr,i)\n",
        "\n",
        "def heapify(arr, i):\n",
        "    left = 2*i+1\n",
        "    right = 2*i+2\n",
        "    largest = i\n",
        "    if left < arrLen and arr[left] > arr[largest]:\n",
        "        largest = left\n",
        "    if right < arrLen and arr[right] > arr[largest]:\n",
        "        largest = right\n",
        "\n",
        "    if largest != i:\n",
        "        swap(arr, i, largest)\n",
        "        heapify(arr, largest)\n",
        "\n",
        "def swap(arr, i, j):\n",
        "    arr[i], arr[j] = arr[j], arr[i]\n",
        "\n",
        "def heapSort(arr):\n",
        "    global arrLen\n",
        "    arrLen = len(arr)\n",
        "    buildMaxHeap(arr)\n",
        "    for i in range(len(arr)-1,0,-1):\n",
        "        swap(arr,0,i)\n",
        "        arrLen -=1\n",
        "        heapify(arr, 0)\n",
        "    return arr\n",
        "\n",
        "print(heapSort([3,1,4,5,2,7]))"
      ],
      "execution_count": 8,
      "outputs": [
        {
          "output_type": "stream",
          "text": [
            "[1, 2, 3, 4, 5, 7]\n"
          ],
          "name": "stdout"
        }
      ]
    },
    {
      "metadata": {
        "id": "S1Lvxpgqze4_",
        "colab_type": "code",
        "colab": {
          "base_uri": "https://localhost:8080/",
          "height": 35
        },
        "outputId": "e914ebce-89c0-4d9d-fce2-19dc22923e68"
      },
      "cell_type": "code",
      "source": [
        "# 计数 \n",
        "\n",
        "def countingSort(arr, maxValue):\n",
        "    bucketLen = maxValue+1\n",
        "    bucket = [0]*bucketLen\n",
        "    sortedIndex =0\n",
        "    arrLen = len(arr)\n",
        "    for i in range(arrLen):\n",
        "        if not bucket[arr[i]]:\n",
        "            bucket[arr[i]]=0\n",
        "        bucket[arr[i]]+=1\n",
        "    for j in range(bucketLen):\n",
        "        while bucket[j]>0:\n",
        "            arr[sortedIndex] = j\n",
        "            sortedIndex+=1\n",
        "            bucket[j]-=1\n",
        "    return arr\n",
        "  \n",
        "print(countingSort([3,1,4,5,2,7], 10))"
      ],
      "execution_count": 11,
      "outputs": [
        {
          "output_type": "stream",
          "text": [
            "[1, 2, 3, 4, 5, 7]\n"
          ],
          "name": "stdout"
        }
      ]
    }
  ]
}