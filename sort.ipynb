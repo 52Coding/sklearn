{
  "nbformat": 4,
  "nbformat_minor": 0,
  "metadata": {
    "colab": {
      "name": "sort.ipynb",
      "version": "0.3.2",
      "provenance": [],
      "collapsed_sections": [],
      "include_colab_link": true
    },
    "kernelspec": {
      "name": "python3",
      "display_name": "Python 3"
    }
  },
  "cells": [
    {
      "cell_type": "markdown",
      "metadata": {
        "id": "view-in-github",
        "colab_type": "text"
      },
      "source": [
        "<a href=\"https://colab.research.google.com/github/52Coding/sklearn/blob/master/sort.ipynb\" target=\"_parent\"><img src=\"https://colab.research.google.com/assets/colab-badge.svg\" alt=\"Open In Colab\"/></a>"
      ]
    },
    {
      "metadata": {
        "id": "0wGFxnIM1pbr",
        "colab_type": "text"
      },
      "cell_type": "markdown",
      "source": [
        "时间复杂度；\n",
        "\n",
        "空间复杂度；\n",
        "\n",
        "稳定性：同值顺序排序过程中是否会变；"
      ]
    },
    {
      "metadata": {
        "id": "kfQc6fMfxxQC",
        "colab_type": "code",
        "outputId": "060a4076-8528-4e2f-d0f5-4093ae16f315",
        "colab": {
          "base_uri": "https://localhost:8080/",
          "height": 35
        }
      },
      "cell_type": "code",
      "source": [
        "# bubble\n",
        "# (n-1)*(n-1)次循环\n",
        "# 每一趟能得到一个有序极值\n",
        "def bubbleSort(arr):\n",
        "    for i in range(1, len(arr)):\n",
        "        for j in range(0, len(arr)-i):\n",
        "            if arr[j] > arr[j+1]:\n",
        "                arr[j], arr[j + 1] = arr[j + 1], arr[j]\n",
        "    return arr\n",
        "  \n",
        "print(bubbleSort([3,1,4,5,2,7]))\n",
        "\n"
      ],
      "execution_count": 0,
      "outputs": [
        {
          "output_type": "stream",
          "text": [
            "[1, 2, 3, 4, 5, 7]\n"
          ],
          "name": "stdout"
        }
      ]
    },
    {
      "metadata": {
        "id": "H9l3fPLKyPDq",
        "colab_type": "code",
        "outputId": "8ab76f28-a21b-4bae-c2a2-8a1a5d79fcfa",
        "colab": {
          "base_uri": "https://localhost:8080/",
          "height": 35
        }
      },
      "cell_type": "code",
      "source": [
        "# 选择\n",
        "# (n-1)*(n-1)次循环\n",
        "# 每一趟得到一个极值索引，视情况交换位置\n",
        "def selectionSort(arr):\n",
        "    for i in range(len(arr) - 1):\n",
        "        # 记录最小数的索引\n",
        "        minIndex = i\n",
        "        for j in range(i + 1, len(arr)):\n",
        "            if arr[j] < arr[minIndex]:\n",
        "                minIndex = j\n",
        "        # i 不是最小数时，将 i 和最小数进行交换\n",
        "        if i != minIndex:\n",
        "            arr[i], arr[minIndex] = arr[minIndex], arr[i]\n",
        "    return arr\n",
        "\n",
        "print(selectionSort([3,1,4,5,2,7]))\n",
        "\n",
        "\n"
      ],
      "execution_count": 0,
      "outputs": [
        {
          "output_type": "stream",
          "text": [
            "[1, 2, 3, 4, 5, 7]\n"
          ],
          "name": "stdout"
        }
      ]
    },
    {
      "metadata": {
        "id": "VXlAwgXuyoXz",
        "colab_type": "code",
        "outputId": "dd78b8b7-88fd-433f-cf08-71c2c20e731c",
        "colab": {
          "base_uri": "https://localhost:8080/",
          "height": 143
        }
      },
      "cell_type": "code",
      "source": [
        "# 插入\n",
        "# n*(N-1)次循环\n",
        "def insertionSort(arr):\n",
        "    for i in range(len(arr)):\n",
        "        preIndex = i-1\n",
        "        current = arr[i] # 缓存放插值，视情况左边交换\n",
        "        while preIndex >= 0 and arr[preIndex] > current:\n",
        "            arr[preIndex+1] = arr[preIndex]\n",
        "            preIndex-=1\n",
        "        arr[preIndex+1] = current\n",
        "        print(i, arr)\n",
        "    return arr\n",
        "  \n",
        "print(insertionSort([3,1,4,5,2,7])) \n",
        "\n",
        "# 314527\n",
        "# 134527\n",
        "# 134527\n",
        "# 134527\n",
        "# 134257 132457 123457 \n",
        "\n"
      ],
      "execution_count": 0,
      "outputs": [
        {
          "output_type": "stream",
          "text": [
            "0 [3, 1, 4, 5, 2, 7]\n",
            "1 [1, 3, 4, 5, 2, 7]\n",
            "2 [1, 3, 4, 5, 2, 7]\n",
            "3 [1, 3, 4, 5, 2, 7]\n",
            "4 [1, 2, 3, 4, 5, 7]\n",
            "5 [1, 2, 3, 4, 5, 7]\n",
            "[1, 2, 3, 4, 5, 7]\n"
          ],
          "name": "stdout"
        }
      ]
    },
    {
      "metadata": {
        "id": "iz6C6O4RyyaE",
        "colab_type": "code",
        "outputId": "98e31863-f89b-4d77-8113-940c9cfeef0a",
        "colab": {
          "base_uri": "https://localhost:8080/",
          "height": 161
        }
      },
      "cell_type": "code",
      "source": [
        "# 希尔\n",
        "# 关键字： 远端、间隔、最后间隔为1\n",
        "# 间隔gap逐渐缩小，当为1时即为 普通插入排序\n",
        "def shellSort(arr):\n",
        "    import math\n",
        "    gap=1\n",
        "    while(gap < len(arr)/3):\n",
        "        gap = gap*3+1\n",
        "    while gap > 0:\n",
        "        for i in range(gap,len(arr)):\n",
        "            temp = arr[i]\n",
        "            j = i-gap\n",
        "            while j >=0 and arr[j] > temp:\n",
        "                arr[j+gap]=arr[j]\n",
        "                j-=gap  ##################\n",
        "            arr[j+gap] = temp\n",
        "            print(i, \":\",arr)\n",
        "        gap = math.floor(gap/3)\n",
        "    return arr\n",
        "\n",
        "print(shellSort([3,1,4,5,2,7]))\n"
      ],
      "execution_count": 3,
      "outputs": [
        {
          "output_type": "stream",
          "text": [
            "4 : [2, 1, 4, 5, 3, 7]\n",
            "5 : [2, 1, 4, 5, 3, 7]\n",
            "1 : [1, 2, 4, 5, 3, 7]\n",
            "2 : [1, 2, 4, 5, 3, 7]\n",
            "3 : [1, 2, 4, 5, 3, 7]\n",
            "4 : [1, 2, 3, 4, 5, 7]\n",
            "5 : [1, 2, 3, 4, 5, 7]\n",
            "[1, 2, 3, 4, 5, 7]\n"
          ],
          "name": "stdout"
        }
      ]
    },
    {
      "metadata": {
        "id": "2QH17zhrzAUK",
        "colab_type": "code",
        "outputId": "1219276c-5483-4162-a7d0-a111e715c5e2",
        "colab": {
          "base_uri": "https://localhost:8080/",
          "height": 305
        }
      },
      "cell_type": "code",
      "source": [
        "# 归并 \n",
        "# 子序列有序后合并\n",
        "# 循环调用自身（递归）\n",
        "def mergeSort(arr):\n",
        "    import math\n",
        "    if(len(arr)<2):\n",
        "        return arr\n",
        "    middle = math.floor(len(arr)/2)\n",
        "    left, right = arr[0:middle], arr[middle:]\n",
        "    return merge(mergeSort(left), mergeSort(right))  ###############\n",
        "\n",
        "def merge(left,right):\n",
        "    print(\"merge:\", left, right)\n",
        "    result = []\n",
        "    while left and right:\n",
        "        if left[0] <= right[0]:\n",
        "            result.append(left.pop(0));\n",
        "        else:\n",
        "            result.append(right.pop(0));\n",
        "        print(result)\n",
        "    while left:\n",
        "        result.append(left.pop(0));\n",
        "    while right:\n",
        "        result.append(right.pop(0));\n",
        "    return result\n",
        "\n",
        "print(mergeSort([3,1,4,5,2,7]))"
      ],
      "execution_count": 6,
      "outputs": [
        {
          "output_type": "stream",
          "text": [
            "merge: [1] [4]\n",
            "[1]\n",
            "merge: [3] [1, 4]\n",
            "[1]\n",
            "[1, 3]\n",
            "merge: [2] [7]\n",
            "[2]\n",
            "merge: [5] [2, 7]\n",
            "[2]\n",
            "[2, 5]\n",
            "merge: [1, 3, 4] [2, 5, 7]\n",
            "[1]\n",
            "[1, 2]\n",
            "[1, 2, 3]\n",
            "[1, 2, 3, 4]\n",
            "[1, 2, 3, 4, 5, 7]\n"
          ],
          "name": "stdout"
        }
      ]
    },
    {
      "metadata": {
        "id": "hpiCD_E6zLZM",
        "colab_type": "code",
        "outputId": "014d8b94-9240-43b3-92c5-0d5317ea6160",
        "colab": {
          "base_uri": "https://localhost:8080/",
          "height": 161
        }
      },
      "cell_type": "code",
      "source": [
        "# 快速\n",
        "# 待定：设置基准 + 分区\n",
        "# 分区：定基准，小的在左大的在右\n",
        "# 循环调用自身（递归）\n",
        "def quickSort(arr, left=None, right=None):\n",
        "    left = 0 if not isinstance(left,(int, float)) else left\n",
        "    right = len(arr)-1 if not isinstance(right,(int, float)) else right\n",
        "    if left < right:\n",
        "        partitionIndex = partition(arr, left, right)\n",
        "        quickSort(arr, left, partitionIndex-1)\n",
        "        quickSort(arr, partitionIndex+1, right)\n",
        "    return arr\n",
        "\n",
        "def partition(arr, left, right):\n",
        "    pivot = left\n",
        "    index = pivot+1\n",
        "    i = index\n",
        "    while  i <= right:\n",
        "        if arr[i] < arr[pivot]:\n",
        "            swap(arr, i, index)\n",
        "            index+=1\n",
        "            print(pivot, index, i, arr)\n",
        "        i+=1\n",
        "    swap(arr,pivot,index-1)\n",
        "    print(arr)\n",
        "    return index-1\n",
        "\n",
        "def swap(arr, i, j):\n",
        "    arr[i], arr[j] = arr[j], arr[i]\n",
        "    \n",
        "print(quickSort([3,1,4,5,2,7]))"
      ],
      "execution_count": 13,
      "outputs": [
        {
          "output_type": "stream",
          "text": [
            "0 2 1 [3, 1, 4, 5, 2, 7]\n",
            "0 3 4 [3, 1, 2, 5, 4, 7]\n",
            "[2, 1, 3, 5, 4, 7]\n",
            "0 2 1 [2, 1, 3, 5, 4, 7]\n",
            "[1, 2, 3, 5, 4, 7]\n",
            "3 5 4 [1, 2, 3, 5, 4, 7]\n",
            "[1, 2, 3, 4, 5, 7]\n",
            "[1, 2, 3, 4, 5, 7]\n"
          ],
          "name": "stdout"
        }
      ]
    },
    {
      "metadata": {
        "id": "FFlkpZ58zUoy",
        "colab_type": "code",
        "outputId": "dbccc15b-cec9-4bd7-bbf3-ff29b81f4db1",
        "colab": {
          "base_uri": "https://localhost:8080/",
          "height": 35
        }
      },
      "cell_type": "code",
      "source": [
        "# 堆\n",
        "# 快速冒泡选择堆 ~  待定\n",
        "# 算法复杂度（耗时）： 1 < logN < N < NlogN < N平方 （代入256，2的8次方）\n",
        "\n",
        "def buildMaxHeap(arr):\n",
        "    import math\n",
        "    for i in range(math.floor(len(arr)/2),-1,-1):\n",
        "        heapify(arr,i)\n",
        "\n",
        "def heapify(arr, i):\n",
        "    left = 2*i+1\n",
        "    right = 2*i+2\n",
        "    largest = i\n",
        "    if left < arrLen and arr[left] > arr[largest]:\n",
        "        largest = left\n",
        "    if right < arrLen and arr[right] > arr[largest]:\n",
        "        largest = right\n",
        "\n",
        "    if largest != i:\n",
        "        swap(arr, i, largest)\n",
        "        heapify(arr, largest)\n",
        "\n",
        "def swap(arr, i, j):\n",
        "    arr[i], arr[j] = arr[j], arr[i]\n",
        "\n",
        "def heapSort(arr):\n",
        "    global arrLen\n",
        "    arrLen = len(arr)\n",
        "    buildMaxHeap(arr)\n",
        "    for i in range(len(arr)-1,0,-1):\n",
        "        swap(arr,0,i)\n",
        "        arrLen -=1\n",
        "        heapify(arr, 0)\n",
        "    return arr\n",
        "\n",
        "print(heapSort([3,1,4,5,2,7]))"
      ],
      "execution_count": 0,
      "outputs": [
        {
          "output_type": "stream",
          "text": [
            "[1, 2, 3, 4, 5, 7]\n"
          ],
          "name": "stdout"
        }
      ]
    },
    {
      "metadata": {
        "id": "S1Lvxpgqze4_",
        "colab_type": "code",
        "outputId": "f8248ecc-bd77-474d-e1b5-766fbab21d2b",
        "colab": {
          "base_uri": "https://localhost:8080/",
          "height": 53
        }
      },
      "cell_type": "code",
      "source": [
        "# 计数 \n",
        "\n",
        "def countingSort(arr, maxValue):\n",
        "    bucketLen = maxValue+1\n",
        "    bucket = [0]*bucketLen\n",
        "    sortedIndex =0\n",
        "    arrLen = len(arr)\n",
        "    for i in range(arrLen):\n",
        "        if not bucket[arr[i]]:\n",
        "            bucket[arr[i]]=0\n",
        "        bucket[arr[i]]+=1\n",
        "    print(bucket) ## 神似字典计数\n",
        "    \n",
        "    # 依序遍历每个桶，桶中值相同\n",
        "    for j in range(bucketLen):\n",
        "        while bucket[j]>0:\n",
        "            arr[sortedIndex] = j\n",
        "            sortedIndex+=1\n",
        "            bucket[j]-=1\n",
        "    return arr\n",
        "  \n",
        "print(countingSort([3,1,1,4,5,2,7], 10))"
      ],
      "execution_count": 8,
      "outputs": [
        {
          "output_type": "stream",
          "text": [
            "[0, 2, 1, 1, 1, 1, 0, 1, 0, 0, 0]\n",
            "[1, 1, 2, 3, 4, 5, 7]\n"
          ],
          "name": "stdout"
        }
      ]
    }
  ]
}