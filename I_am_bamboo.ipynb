{
  "nbformat": 4,
  "nbformat_minor": 0,
  "metadata": {
    "colab": {
      "name": "I_am_bamboo.ipynb",
      "version": "0.3.2",
      "provenance": [],
      "collapsed_sections": [],
      "include_colab_link": true
    },
    "kernelspec": {
      "name": "python3",
      "display_name": "Python 3"
    }
  },
  "cells": [
    {
      "cell_type": "markdown",
      "metadata": {
        "id": "view-in-github",
        "colab_type": "text"
      },
      "source": [
        "<a href=\"https://colab.research.google.com/github/52Coding/sklearn/blob/master/I_am_bamboo.ipynb\" target=\"_parent\"><img src=\"https://colab.research.google.com/assets/colab-badge.svg\" alt=\"Open In Colab\"/></a>"
      ]
    },
    {
      "metadata": {
        "id": "WvDHoc1tekiJ",
        "colab_type": "code",
        "colab": {
          "base_uri": "https://localhost:8080/",
          "height": 53
        },
        "outputId": "4d2c9e15-5ab9-4b8a-8fdf-662ea41f72c3"
      },
      "cell_type": "code",
      "source": [
        "import tensorflow as tf\n",
        "from tensorflow.keras import layers\n",
        "\n",
        "print(tf.VERSION)\n",
        "print(tf.keras.__version__)\n",
        "\n",
        "# keras 学习笔记\n",
        "# 高阶API\n",
        "# 输入数据可以是 Numpy(少量) 或 DataSet(大量)\n",
        "# 函数式API\n",
        "# 模型类自定义\n",
        "# 层类自定义\n",
        "# 回调操作： 训练期间扩展模型行为，比如 保存阶段性截面、早停、运行时调整学习速率\n",
        "# 权重、配置、整个模型 保存&恢复\n",
        "# 分布式训练： model_to_estimator （含多GPU 应用策略：MirroredStrategy）\n",
        "\n",
        "\n"
      ],
      "execution_count": 1,
      "outputs": [
        {
          "output_type": "stream",
          "text": [
            "1.13.1\n",
            "2.2.4-tf\n"
          ],
          "name": "stdout"
        }
      ]
    }
  ]
}