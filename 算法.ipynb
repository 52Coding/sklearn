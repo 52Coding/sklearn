{
  "nbformat": 4,
  "nbformat_minor": 0,
  "metadata": {
    "colab": {
      "name": "算法.ipynb",
      "version": "0.3.2",
      "provenance": [],
      "collapsed_sections": [],
      "include_colab_link": true
    },
    "kernelspec": {
      "name": "python3",
      "display_name": "Python 3"
    }
  },
  "cells": [
    {
      "cell_type": "markdown",
      "metadata": {
        "id": "view-in-github",
        "colab_type": "text"
      },
      "source": [
        "<a href=\"https://colab.research.google.com/github/52Coding/sklearn/blob/master/%E7%AE%97%E6%B3%95.ipynb\" target=\"_parent\"><img src=\"https://colab.research.google.com/assets/colab-badge.svg\" alt=\"Open In Colab\"/></a>"
      ]
    },
    {
      "metadata": {
        "id": "CJiviwo9p5NX",
        "colab_type": "code",
        "colab": {}
      },
      "cell_type": "code",
      "source": [
        "\n",
        "# 动态规划： 初始化、分阶段递推（上一阶段解提供给下一阶段）\n",
        "\n",
        "# 位运算：\n",
        "# 14 & 3 => 1110 & 0011 => 0010 => 2\n",
        "# 14 >> 2 => 1110 >>2 => 11 => 3 \n",
        "\n",
        "# 算法话题分类：\n",
        "# 数组、动态规划、数学、字符串、树、哈希表、深度优先搜索、二分查找、\n",
        "# 双指针、贪心算法、广度优先搜索、栈、回溯算法、设计、链表、位运算、\n",
        "# 堆、图、排序、并查集、分治算法、二叉搜索树、字典树、Sliding Window、\n",
        "# 递归、队列、线段树、极小化极大、Random、树状数组、拓扑排序、脑筋急转弯、\n",
        "# 几何、Map、Rejection Sampling、蓄水池抽样、记忆化、数组、动态规划、\n",
        "# 数学、字符串、树、哈希表、深度优先搜索、二分查找、双指针、贪心算法、\n",
        "# 广度优先搜索、栈、回溯算法、设计、链表、位运算、堆\n",
        "############################################################################\n",
        "\n",
        "中序遍历：左子、顶、右子（冒尖）ok\n",
        "前序遍历：1  2  4  5  7  8  3  6 顶左右\n",
        "中序遍历：4  2  7  5  8  1  3  6 左顶右\n",
        "后序遍历：4  7  8  5  2  6  3  1 左右顶\n",
        "层次遍历：1  2  3  4  5  6  7  8 从上至下从左至右\n",
        "\n",
        "\n",
        "\n",
        "\n",
        "\n",
        "\n",
        "\n",
        "\n",
        "\n",
        "\n"
      ],
      "execution_count": 0,
      "outputs": []
    }
  ]
}