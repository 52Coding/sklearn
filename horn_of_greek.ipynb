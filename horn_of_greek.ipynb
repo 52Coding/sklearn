{
  "nbformat": 4,
  "nbformat_minor": 0,
  "metadata": {
    "colab": {
      "name": "horn_of_greek.ipynb",
      "version": "0.3.2",
      "provenance": [],
      "collapsed_sections": [],
      "include_colab_link": true
    },
    "kernelspec": {
      "name": "python3",
      "display_name": "Python 3"
    }
  },
  "cells": [
    {
      "cell_type": "markdown",
      "metadata": {
        "id": "view-in-github",
        "colab_type": "text"
      },
      "source": [
        "<a href=\"https://colab.research.google.com/github/52Coding/sklearn/blob/master/horn_of_greek.ipynb\" target=\"_parent\"><img src=\"https://colab.research.google.com/assets/colab-badge.svg\" alt=\"Open In Colab\"/></a>"
      ]
    },
    {
      "metadata": {
        "id": "yJA6WqlOoMji",
        "colab_type": "code",
        "colab": {
          "base_uri": "https://localhost:8080/",
          "height": 541
        },
        "outputId": "3a77aa0b-5ac7-4596-b98b-3b9ef87fd009"
      },
      "cell_type": "code",
      "source": [
        "from keras.models import Sequential\n",
        "from keras.layers import Dense,Activation\n",
        "\n",
        "model = Sequential()\n",
        "model.add(Dense(32, activation='relu', input_dim=100))\n",
        "model.add(Dense(1, activation='sigmoid'))\n",
        "model.compile(optimizer='rmsprop',\n",
        "              loss='binary_crossentropy',\n",
        "              metrics=['accuracy'])\n",
        "\n",
        "# Generate dummy data\n",
        "import numpy as np\n",
        "data = np.random.random((1000, 100))\n",
        "# 二分类\n",
        "labels = np.random.randint(2, size=(1000, 1))\n",
        "\n",
        "# Train the model, iterating on the data in batches of 32 samples\n",
        "model.fit(data, labels, epochs=10, batch_size=32)"
      ],
      "execution_count": 1,
      "outputs": [
        {
          "output_type": "stream",
          "text": [
            "Using TensorFlow backend.\n"
          ],
          "name": "stderr"
        },
        {
          "output_type": "stream",
          "text": [
            "WARNING:tensorflow:From /usr/local/lib/python3.6/dist-packages/tensorflow/python/framework/op_def_library.py:263: colocate_with (from tensorflow.python.framework.ops) is deprecated and will be removed in a future version.\n",
            "Instructions for updating:\n",
            "Colocations handled automatically by placer.\n",
            "WARNING:tensorflow:From /usr/local/lib/python3.6/dist-packages/tensorflow/python/ops/math_ops.py:3066: to_int32 (from tensorflow.python.ops.math_ops) is deprecated and will be removed in a future version.\n",
            "Instructions for updating:\n",
            "Use tf.cast instead.\n",
            "Epoch 1/10\n",
            "1000/1000 [==============================] - 1s 647us/step - loss: 0.7084 - acc: 0.4980\n",
            "Epoch 2/10\n",
            "1000/1000 [==============================] - 0s 36us/step - loss: 0.6954 - acc: 0.5260\n",
            "Epoch 3/10\n",
            "1000/1000 [==============================] - 0s 38us/step - loss: 0.6900 - acc: 0.5460\n",
            "Epoch 4/10\n",
            "1000/1000 [==============================] - 0s 35us/step - loss: 0.6875 - acc: 0.5640\n",
            "Epoch 5/10\n",
            "1000/1000 [==============================] - 0s 34us/step - loss: 0.6817 - acc: 0.5410\n",
            "Epoch 6/10\n",
            "1000/1000 [==============================] - 0s 34us/step - loss: 0.6784 - acc: 0.5650\n",
            "Epoch 7/10\n",
            "1000/1000 [==============================] - 0s 35us/step - loss: 0.6738 - acc: 0.5820\n",
            "Epoch 8/10\n",
            "1000/1000 [==============================] - 0s 34us/step - loss: 0.6715 - acc: 0.5840\n",
            "Epoch 9/10\n",
            "1000/1000 [==============================] - 0s 35us/step - loss: 0.6652 - acc: 0.5950\n",
            "Epoch 10/10\n",
            "1000/1000 [==============================] - 0s 34us/step - loss: 0.6625 - acc: 0.5940\n"
          ],
          "name": "stdout"
        },
        {
          "output_type": "execute_result",
          "data": {
            "text/plain": [
              "<keras.callbacks.History at 0x7f34b3f1dd30>"
            ]
          },
          "metadata": {
            "tags": []
          },
          "execution_count": 1
        }
      ]
    }
  ]
}