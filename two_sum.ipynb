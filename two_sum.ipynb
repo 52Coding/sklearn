{
  "nbformat": 4,
  "nbformat_minor": 0,
  "metadata": {
    "colab": {
      "name": "two_sum.ipynb",
      "version": "0.3.2",
      "provenance": [],
      "include_colab_link": true
    },
    "kernelspec": {
      "name": "python3",
      "display_name": "Python 3"
    }
  },
  "cells": [
    {
      "cell_type": "markdown",
      "metadata": {
        "id": "view-in-github",
        "colab_type": "text"
      },
      "source": [
        "<a href=\"https://colab.research.google.com/github/52Coding/sklearn/blob/master/two_sum.ipynb\" target=\"_parent\"><img src=\"https://colab.research.google.com/assets/colab-badge.svg\" alt=\"Open In Colab\"/></a>"
      ]
    },
    {
      "metadata": {
        "id": "qIy8M9Pfeejd",
        "colab_type": "code",
        "colab": {
          "base_uri": "https://localhost:8080/",
          "height": 107
        },
        "outputId": "ae08c880-91ad-4531-8308-4240ca3e958c"
      },
      "cell_type": "code",
      "source": [
        "\n",
        "# 派生子类、基类 \n",
        "class solution(object):\n",
        "# 类方法self必须有\n",
        "  def two_sum(self, nums, target_sum):\n",
        "    dict = {}\n",
        "#   索引带值序列\n",
        "    for i,num in enumerate(nums):\n",
        "      print(i,num)\n",
        "#     dict[num] = i\n",
        "      if (target_sum - num) in dict:\n",
        "        return [dict[target_sum - num], i]\n",
        "      dict[num] = i\n",
        "      \n",
        "# python不需要new\n",
        "s1 = solution()\n",
        "result = s1.two_sum([1,3,4,5,6,9], 8)\n",
        "print(result)\n",
        "\n",
        "\n"
      ],
      "execution_count": 4,
      "outputs": [
        {
          "output_type": "stream",
          "text": [
            "0 1\n",
            "1 3\n",
            "2 4\n",
            "3 5\n",
            "[1, 3]\n"
          ],
          "name": "stdout"
        }
      ]
    }
  ]
}